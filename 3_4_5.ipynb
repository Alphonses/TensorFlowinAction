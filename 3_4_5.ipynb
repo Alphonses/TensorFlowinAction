{
 "cells": [
  {
   "cell_type": "code",
   "execution_count": 5,
   "metadata": {
    "collapsed": false
   },
   "outputs": [
    {
     "name": "stdout",
     "output_type": "stream",
     "text": [
      "[[-0.81131822  1.48459876  0.06532937]\n [-2.44270396  0.0992484   0.59122431]]\n[[-0.81131822]\n [ 1.48459876]\n [ 0.06532937]]\nAtter 0 training step(s),cross entropy on all data is 0.0674925 \n"
     ]
    },
    {
     "name": "stdout",
     "output_type": "stream",
     "text": [
      "Atter 1000 training step(s),cross entropy on all data is 0.0163385 \n"
     ]
    },
    {
     "name": "stdout",
     "output_type": "stream",
     "text": [
      "Atter 2000 training step(s),cross entropy on all data is 0.00907547 \n"
     ]
    },
    {
     "name": "stdout",
     "output_type": "stream",
     "text": [
      "Atter 3000 training step(s),cross entropy on all data is 0.00714436 \n"
     ]
    },
    {
     "name": "stdout",
     "output_type": "stream",
     "text": [
      "Atter 4000 training step(s),cross entropy on all data is 0.00578471 \n"
     ]
    },
    {
     "name": "stdout",
     "output_type": "stream",
     "text": [
      "[[-1.9618274   2.58235407  1.68203783]\n [-3.4681716   1.06982327  2.11788988]]\n[[-1.8247149 ]\n [ 2.68546653]\n [ 1.41819501]]\n"
     ]
    }
   ],
   "source": [
    "import tensorflow as tf\n",
    "from numpy.random import RandomState\n",
    "\n",
    "batch_size = 8\n",
    "\n",
    "w1 = tf.Variable(tf.random_normal([2,3],stddev=1,seed=1))\n",
    "w2 = tf.Variable(tf.random_normal([3,1],stddev=1,seed=1))\n",
    "\n",
    "x = tf.placeholder(tf.float32,shape=(None,2),name='x-input')\n",
    "y_ = tf.placeholder(tf.float32,shape=(None,1),name='y-input')\n",
    "\n",
    "a = tf.matmul(x,w1)\n",
    "y = tf.matmul(a,w2)\n",
    "\n",
    "cross_entropy = -tf.reduce_mean(y_ * tf.log(tf.clip_by_value(y,1e-10,1.0)))\n",
    "# cross_entropy = tf.nn.softmax_cross_entropy_with_logits()\n",
    "train_step = tf.train.AdamOptimizer(0.001).minimize(cross_entropy)\n",
    "\n",
    "rdm = RandomState(1)\n",
    "dataset_size = 128\n",
    "X = rdm.rand(dataset_size,2)\n",
    "Y = [[int(x1+x2 < 1)] for (x1,x2) in X]\n",
    "\n",
    "with tf.Session() as sess:\n",
    "    init_op = tf.global_variables_initializer()\n",
    "    sess.run(init_op)\n",
    "    print sess.run(w1)\n",
    "    print sess.run(w2)\n",
    "    \n",
    "    STEPS = 5000\n",
    "    \n",
    "    for i in range(STEPS):\n",
    "        start = (i * batch_size) % dataset_size\n",
    "        end = min(start+batch_size,dataset_size)\n",
    "        \n",
    "        sess.run(train_step,feed_dict={x:X[start:end],y_:Y[start:end]})\n",
    "        \n",
    "        if  i % 1000 == 0:\n",
    "            total_cross_entropy = sess.run(cross_entropy,\n",
    "                                           feed_dict={x:X,y_:Y})\n",
    "            print(\"Atter %d training step(s),cross entropy on all data \"\n",
    "                  \"is %g \" %(i,total_cross_entropy))\n",
    "            \n",
    "    print sess.run(w1)\n",
    "    print sess.run(w2)"
   ]
  },
  {
   "cell_type": "code",
   "execution_count": null,
   "metadata": {},
   "outputs": [],
   "source": [
    ""
   ]
  }
 ],
 "metadata": {
  "kernelspec": {
   "display_name": "Python 2",
   "language": "python",
   "name": "python2"
  },
  "language_info": {
   "codemirror_mode": {
    "name": "ipython",
    "version": 2.0
   },
   "file_extension": ".py",
   "mimetype": "text/x-python",
   "name": "python",
   "nbconvert_exporter": "python",
   "pygments_lexer": "ipython2",
   "version": "2.7.6"
  }
 },
 "nbformat": 4,
 "nbformat_minor": 0
}